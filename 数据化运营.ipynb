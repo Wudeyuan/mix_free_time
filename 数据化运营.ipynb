{
 "cells": [
  {
   "cell_type": "code",
   "execution_count": 9,
   "metadata": {
    "collapsed": true
   },
   "outputs": [
    {
     "data": {
      "text/plain": "-1"
     },
     "execution_count": 9,
     "metadata": {},
     "output_type": "execute_result"
    }
   ],
   "source": [
    "#...数据化运营：数据化运营是指通过数据化的工具、技术和方法，对运营过程中的各个环节进行科学分析、引导和应用，从而达到优化运营效果和效率、降低成本、提高效益的目的。\n",
    "#...运营是一个范围“弹性”非常大的概念，最大可以延伸到所有公司的事务管理。本书中运营的范围包括会员运营、商品运营、流量运营和内容运营四方面内容。\n",
    "#...运营方式：辅助决策式数据化运营、数据驱动式数据化运营\n",
    "# 处理样本不均衡包：imbalanced-learn（import imblearn） P216\n",
    "# 处理图像：\n",
    "import cv2\n",
    "import numpy as np\n",
    "import matplotlib.pyplot as plt\n",
    "img_file=r'C:\\Users\\Wudey\\Desktop\\wudeyuan\\ChromeDownload\\pictures\\pictures\\B.jpg'\n",
    "img=cv2.imread(img_file)\n",
    "# 展示图象\n",
    "cv2.imshow(\"fengxia\",img)\n",
    "cv2.waitKey(0) # 显示时间，必选项\n",
    "# cv2.destroyAllWindows()\n",
    "# 图像缩放\n",
    "img_scal=cv2.resize(img,None,fx=0.3,fy=0.3,interpolation=cv2.INTER_CUBIC)\n",
    "cv2.imshow('yasuo',img_scal)\n",
    "cv2.waitKey(0) # 显示时间，必选项\n",
    "# 边缘检测\n",
    "img_edges = cv2.Canny(img_scal, 100, 200) # 检测图像边缘\n",
    "cv2.imshow('yasuo',img_edges)\n",
    "cv2.waitKey(0)\n",
    "# 旋转图像\n",
    "rows,cols,ch=img_scal.shape\n",
    "M = cv2.getRotationMatrix2D((cols / 2, rows / 2), 45, 0.6) # 定义旋转中心\n",
    "img_rotation = cv2.warpAffine(img_scal, M, (cols, rows)) # 第一个参数为旋转中心，第二个为旋转角度，第三个为旋转后的缩放因子\n",
    "cv2.imshow('rotation img', img_rotation) # 展示旋转后的图像\n",
    "cv2.waitKey(0)\n",
    "# 更多功能"
   ]
  },
  {
   "cell_type": "code",
   "execution_count": null,
   "outputs": [],
   "source": [
    "#...数据化运营：\n",
    "# 可作为参考书，没有比较深入学习\n",
    "\n"
   ],
   "metadata": {
    "collapsed": false,
    "pycharm": {
     "name": "#%%\n"
    }
   }
  }
 ],
 "metadata": {
  "kernelspec": {
   "name": "pycharm-668536be",
   "language": "python",
   "display_name": "PyCharm (Not_Scrapy)"
  },
  "language_info": {
   "codemirror_mode": {
    "name": "ipython",
    "version": 2
   },
   "file_extension": ".py",
   "mimetype": "text/x-python",
   "name": "python",
   "nbconvert_exporter": "python",
   "pygments_lexer": "ipython2",
   "version": "2.7.6"
  }
 },
 "nbformat": 4,
 "nbformat_minor": 0
}